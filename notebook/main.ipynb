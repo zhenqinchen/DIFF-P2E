{
 "cells": [
  {
   "cell_type": "code",
   "execution_count": 1,
   "id": "a51f12cd",
   "metadata": {
    "ExecuteTime": {
     "end_time": "2024-12-09T07:56:47.566841Z",
     "start_time": "2024-12-09T07:56:47.486768Z"
    }
   },
   "outputs": [],
   "source": [
    "import os\n",
    "os.chdir('E:/BaiduSyncdisk/code/python/ppg/ppg2ecg_diff')\n",
    "%load_ext autoreload"
   ]
  },
  {
   "cell_type": "code",
   "execution_count": null,
   "id": "d28f0180",
   "metadata": {
    "ExecuteTime": {
     "end_time": "2024-12-09T07:56:51.335805Z",
     "start_time": "2024-12-09T07:56:47.568842Z"
    }
   },
   "outputs": [],
   "source": [
    "from argparse import ArgumentParser\n",
    "from torch.cuda import device_count\n",
    "from torch.multiprocessing import spawn\n",
    "\n",
    "from params import AttrDict, params as base_params\n",
    "import numpy as np\n",
    "import os\n",
    "import torch\n",
    "import torch.nn as nn\n",
    "from torch.nn.parallel import DistributedDataParallel\n",
    "from torch.utils.tensorboard import SummaryWriter\n",
    "from tqdm import tqdm\n",
    "\n",
    "from torch.utils.data import DataLoader\n",
    "\n",
    "from config import cfg\n",
    "\n",
    "import matplotlib.pyplot as plt\n",
    "\n",
    "import util\n",
    "\n",
    "\n",
    "#from denoising_model import ConditionalModel\n",
    "import numpy as np\n",
    "import os\n",
    "import itertools\n",
    "import argparse\n",
    "\n",
    "from dataset import PPG2ECG_Dataset, PPG2ECG_Dataset_Eval\n",
    "from util import MAE, NMAE, RMSE, NRMSE, PRD, DTW,PPC, cross_correlation,calculate_FD\n",
    "import neurokit2 as nk\n",
    "import torch_optimizer as optim "
   ]
  },
  {
   "cell_type": "code",
   "execution_count": 3,
   "id": "032fa2b7",
   "metadata": {
    "ExecuteTime": {
     "end_time": "2024-12-09T07:56:51.351820Z",
     "start_time": "2024-12-09T07:56:51.336806Z"
    }
   },
   "outputs": [],
   "source": [
    "#exec(open(os.path.join(\"scripts\", \"GetTrainTest.py\"), encoding='utf-8').read())\n",
    "exec(open(os.path.join(\"scripts\", \"common.py\"), encoding='utf-8').read())\n",
    "exec(open(os.path.join(\"scripts\", \"GetTrainTest_together.py\"), encoding='utf-8').read())\n",
    "#exec(open(os.path.join(\"scripts\", \"GetTrainTest.py\"), encoding='utf-8').read())"
   ]
  },
  {
   "cell_type": "code",
   "execution_count": 4,
   "id": "0adc90ee",
   "metadata": {
    "ExecuteTime": {
     "end_time": "2024-12-09T07:56:51.367834Z",
     "start_time": "2024-12-09T07:56:51.353821Z"
    }
   },
   "outputs": [],
   "source": [
    "c = cfg()\n",
    "\n",
    "c.set_a_33 = False\n",
    "c.set_a_select_channel = False\n",
    "\n",
    "\n",
    "c.max_epoch =30\n",
    "\n",
    "seed = 2023\n",
    "##data\n",
    "\n",
    "test_idx = 0\n",
    "###\n",
    "c.train = True\n",
    "c.model_name ='unet'\n",
    "c.rpeak_model_name = 'm_unet'\n",
    "c.fs= 128\n",
    "c.seg_len = int(128*4)\n",
    "c.batch_size = 192*3\n",
    "c.lr  =2e-4\n",
    "\n",
    "c.loss_name = 'diff'#'L1'#'L1' #'mse'#'msc'\n",
    "c.loss_weight = 0.99#0.99\n",
    "model_save_dir = c.RESULT + '/model'\n",
    "\n",
    "\n",
    "#c.remove_pl = False\n",
    "c.train_all_channel = True\n",
    "contain_label = True\n",
    "c.mecg_label = False\n",
    "remove_pl = False\n",
    "c.show_pic = True\n",
    "c.show_bar  = True\n",
    "\n",
    "dataset_prefix = 'E:/code/ppg/resource/samples/'\n",
    "model_dir ='E:/resourse/2024/ppg2ecg/model' #'E:/resource/2024/ppg/model'\n",
    "#max_steps = 200*50#30*50 #30*50\n",
    "\n",
    "\n",
    "\n",
    "\n",
    "\n",
    "\n",
    "c.min_max_norm = True\n",
    "c.sample_k =1#10\n",
    "#c.interp_method  ='scipy'\n",
    "fast_sampling = False\n",
    "\n",
    "\n",
    "c.r_con = True \n",
    "c.using_pred_r_con = True\n",
    "\n",
    "\n",
    "\n",
    "\n",
    "datasets = ['01_BIDMC','02_CapnoBase']#[\n",
    "c.db ='02_CapnoBase'#'03_DaLia' #'01_BIDMC'#'' Total_Partition\n",
    "\n",
    "c.partition_path  ='D:/research/data/2024/PPG2ECG/partition/'+c.db+'_Partition_same_record.npy' ##v_Quality\n",
    "\n",
    "rpeak_model_file ='m_unet_' +c.db + '_Rpeak'#\n",
    "model_file = c.model_name + '_' + c.db + '_'+ str(int(c.r_con))  +'_together'\n",
    "c.model_file = model_file \n"
   ]
  },
  {
   "cell_type": "code",
   "execution_count": 5,
   "id": "3bee3a38",
   "metadata": {
    "ExecuteTime": {
     "end_time": "2024-12-09T07:56:51.383848Z",
     "start_time": "2024-12-09T07:56:51.368834Z"
    }
   },
   "outputs": [],
   "source": [
    "\n",
    "# load partition\n",
    "partition = np.load(c.partition_path, allow_pickle=True).item()\n",
    "\n",
    "trainset = partition['trainset']\n",
    "valset = partition['valset']\n",
    "\n",
    "# get_dataloader function\n",
    "def get_dataloader(batch_size, num_worker):\n",
    "    trainloader_instance = PPG2ECG_Dataset(trainset, trainset, sampling_rate=c.fs, \n",
    "                                           min_max_norm=c.min_max_norm, z_score_norm=c.z_score_norm, interp=c.interp_method)\n",
    "  #  trainloader_instance.__getitem__(0)\n",
    "   # train_sampler = torch.utils.data.distributed.DistributedSampler(trainloader_instance, shuffle=True)\n",
    "    train_dataloader = torch.utils.data.DataLoader(trainloader_instance,\n",
    "                                                   batch_size = c.batch_size,\n",
    "                                                   shuffle = True,\n",
    "                                                   num_workers = c.num_worker,\n",
    "                                                   drop_last = False,\n",
    "                                                   pin_memory = True)\n",
    "    \n",
    "    return train_dataloader\n",
    "\n",
    "\n",
    "def get_test_dataloader():\n",
    "    batch_size, num_worker = 100, 1\n",
    "    test_instance = PPG2ECG_Dataset_Eval(valset, sampling_rate=c.fs, \n",
    "                                               min_max_norm=c.min_max_norm, z_score_norm=c.z_score_norm, interp=c.interp_method)\n",
    "    test_dataloader = torch.utils.data.DataLoader(test_instance,\n",
    "                                                       batch_size = batch_size,\n",
    "                                                       shuffle = False,\n",
    "                                                       num_workers = num_worker,\n",
    "                                                       drop_last = False,\n",
    "                                                       pin_memory = True)\n",
    "    return test_dataloader\n",
    "\n"
   ]
  },
  {
   "cell_type": "code",
   "execution_count": null,
   "id": "699c7e24",
   "metadata": {},
   "outputs": [],
   "source": []
  },
  {
   "cell_type": "code",
   "execution_count": null,
   "id": "49582df0",
   "metadata": {
    "ExecuteTime": {
     "end_time": "2024-12-09T08:05:24.187767Z",
     "start_time": "2024-12-09T07:56:51.384849Z"
    },
    "scrolled": true
   },
   "outputs": [],
   "source": [
    "util.speed_up()\n",
    "\n",
    "pccs = []\n",
    "msg = []\n",
    "#setup(1,1)\n",
    "\n",
    "print('database:',c.db)\n",
    "# model_file =c.db + '_' + c.model_name  +'_'+str(test_idx)\n",
    "max_pcc = 0\n",
    "max_result = None\n",
    "if c.train:\n",
    "        # get generator\n",
    "    train_dataloader = get_dataloader(c.batch_size, c.num_worker)\n",
    "    \n",
    "    print('training....')\n",
    "\n",
    "    train(train_dataloader, base_params)\n",
    "print('testing....')\n",
    "test_dataloader = get_test_dataloader()\n",
    "test(test_dataloader)\n",
    "  "
   ]
  },
  {
   "cell_type": "code",
   "execution_count": null,
   "id": "663b8846",
   "metadata": {},
   "outputs": [],
   "source": []
  },
  {
   "cell_type": "code",
   "execution_count": null,
   "id": "d0717076",
   "metadata": {},
   "outputs": [],
   "source": []
  }
 ],
 "metadata": {
  "kernelspec": {
   "display_name": "torch2",
   "language": "python",
   "name": "torch2"
  },
  "language_info": {
   "codemirror_mode": {
    "name": "ipython",
    "version": 3
   },
   "file_extension": ".py",
   "mimetype": "text/x-python",
   "name": "python",
   "nbconvert_exporter": "python",
   "pygments_lexer": "ipython3",
   "version": "3.9.16"
  }
 },
 "nbformat": 4,
 "nbformat_minor": 5
}
